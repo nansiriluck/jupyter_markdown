{
 "cells": [
  {
   "cell_type": "markdown",
   "metadata": {},
   "source": [
    "# <span style='color:blue'>Try-It Activity 7.4: Markdown Cheat Sheet</span>\n",
    "Author: <span style='background:Beige'><b>Siriluck PINIJSUCKJAI</b></span> | Creation date: Dec 01, 2021 | Last modified: Dec 01, 2021\n",
    "***"
   ]
  },
  {
   "cell_type": "markdown",
   "metadata": {},
   "source": [
    "## Table of contents\n",
    "1. [Introduction: What is markdown?](#1)<br>\n",
    "2. [Headers](#2)<br>\n",
    "3. [Fonts](#3)<br>\n",
    "    3.1 [Font styles](#3.1)<br>\n",
    "    3.2 [Font sizes](#3.2)<br>\n",
    "    3.3 [Font colors](#3.3)<br>\n",
    "    3.4 [Font background colors](#3.4)<br>\n",
    "    3.5 [Combination of font colors and font background colors](#3.5)\n",
    "4. [Table](#4)<br>\n",
    "5. [Horizontal lines](#5)<br>\n",
    "6. [Links](#6)<br>\n",
    "    6.1 [Internal links](#6.1)<br>\n",
    "    6.2 [External links](#6.2)<br>\n",
    "7. [Bootstraps](#7)<br>\n",
    "    7.1 [Alerts](#7.1)<br>\n",
    "    7.2 [Badges/Labels](#7.1)<br>\n",
    "8. [Blockquotes](#8)<br>\n",
    "9. [References](#9)<br>\n",
    "***"
   ]
  },
  {
   "cell_type": "markdown",
   "metadata": {},
   "source": [
    "## <a id=1>1. Introduction: What is markdown?</a>\n",
    "\n",
    "The markdown in the Jupyter Notebook works the same way as other mark-up languages. There are multiple ways to play with the markdown by using its own code or in combination with HTML. <br>\n",
    "<br>\n",
    "The benefits of markdown usage including;\n",
    "- Attach explanation together with the python coding.\n",
    "- Styling notebook to convey an important message to ease the readers' comprehension in a glace.<br>\n",
    "\n",
    "This notebook include most of useful syntaxes. However, some are not included in this cheat sheet. You can search around to play more with the markdown.<br>\n"
   ]
  },
  {
   "cell_type": "markdown",
   "metadata": {},
   "source": [
    "You can combine python codes with the markdown. <br><u>See below lines for the python codes.</u><br>\n",
    "1. Select the cell below.\n",
    "2. Press ctrl+enter on your keyboard."
   ]
  },
  {
   "cell_type": "code",
   "execution_count": 3,
   "metadata": {},
   "outputs": [
    {
     "name": "stdout",
     "output_type": "stream",
     "text": [
      "Name: Pekky\n",
      "Hello Pekky\n"
     ]
    }
   ],
   "source": [
    "a = 'Hello'\n",
    "b = input('Name: ')\n",
    "\n",
    "print(a, b)"
   ]
  },
  {
   "cell_type": "markdown",
   "metadata": {},
   "source": [
    "To include the code cell, just press esc+b for inserting a code cell below the current cell. Or press esc+a for inserting a code cell above the current cell. \n",
    "\n",
    "The new cell will be a code cell by default. If you want it to be a markdown, you can do so by selecting the cell and press esc+m.\n",
    "\n",
    "There are still more to explore. Keep playing with it!!\n",
    "\n",
    "***\n",
    "<font size=1>[Back to top](#Table-of-contents)</font>"
   ]
  },
  {
   "cell_type": "markdown",
   "metadata": {},
   "source": [
    "## <a id=2>2. Headers</a>\n",
    "<u>Syntaxes</u> : <u>Results</u>\n",
    "# `#` : (Header 1)\n",
    "## `##` : (Header 2)\n",
    "### `###` : (Header 3)\n",
    "#### `####` : (Header 4)\n",
    "##### `#####` : (Header 5)"
   ]
  },
  {
   "cell_type": "markdown",
   "metadata": {},
   "source": [
    "|<center>Syntaxes</center>|<center>Results</center>|\n",
    "|:---|:---|\n",
    "|`<h1>h1</h>`|<h1>h1</h>|\n",
    "|`<h2>h2</h>`|<h2>h2</h>|\n",
    "|`<h3>h3</h>`|<h3>h3</h>|\n",
    "|`<h4>h4</h>`|<h4>h4</h>|\n",
    "|`<h5>h5</h>`|<h5>h5</h>|\n",
    "\n",
    "***\n",
    "<font size=1>[Back to top](#Table-of-contents)</font>"
   ]
  },
  {
   "cell_type": "markdown",
   "metadata": {},
   "source": [
    "## <a id=3>3. Fonts</a>\n",
    "You can play with texts in the markdown in many ways. Some examples are styles, colors, background colors. One of benefits is that colors and styles help highlight the sentences/messages. It would make sentences stand out in a glance."
   ]
  },
  {
   "cell_type": "markdown",
   "metadata": {},
   "source": [
    "### <a id=3.1>3.1 Font styles</a>"
   ]
  },
  {
   "cell_type": "markdown",
   "metadata": {},
   "source": [
    "|<center>Syntaxes</center>|<center>Results</center>|\n",
    "|:---|:---|\n",
    "|`*Italic*`|*Italic*|\n",
    "|`_Italic_ `|_Italic_|\n",
    "|`**Bold** `|**Bold** |\n",
    "|`***Bold and Italic***`|***Bold and Italic***|\n",
    "|`~~Strikethrough~~`|~~Strikethrough~~|"
   ]
  },
  {
   "cell_type": "markdown",
   "metadata": {},
   "source": [
    "|<center>HTML Syntaxes</center>|<center>Results</center>|\n",
    "|:---|:---|\n",
    "|`<i>Italic</i>`|<i>Italic</i>|\n",
    "|`<em>Italic</em>`|<em>Italic</em>|\n",
    "|`<b>Bold</b>`|<b>Bold</b>|\n",
    "|`<u>Underline</u>`|<u>Underline</u>|\n",
    "|`<b><u>Bold and Underline</b></u>`|<b><u>Bold and Underline</b></u>|\n",
    "|`<i><u>Italic and Underline</i></u>`|<i><u>Italic and Underline</i></u>|\n",
    "|`<strike>Strikethrough</strike>`|<strike>Strikethrough</strike>|\n",
    "|`<s>Strikethrough</s>`|<s>Strikethrough</s>|\n",
    "|`Here is <sup>Superscript</sup>`|Here is <sup>superscript</sup>|\n",
    "|`Here is <sub>Subscript</sub>`|Here is <sub>Subscript</sub>|\n",
    "\n",
    "***\n",
    "<font size=1>[Back to 3. Fonts](#3) | [Back to top](#Table-of-contents)</font>"
   ]
  },
  {
   "cell_type": "markdown",
   "metadata": {},
   "source": [
    "### <a id=3.2>3.2 Font sizes</a>"
   ]
  },
  {
   "cell_type": "markdown",
   "metadata": {},
   "source": [
    "|<center>Syntaxes</center>|<center>Results</center>|\n",
    "|:---|:---|\n",
    "|`<font size=1>Font size=1</font>`|<font size=1>Font size=1</font>|\n",
    "|`<font size=2>Font size=2</font>`|<font size=2>Font size=2</font>|\n",
    "|`<font size=3>Font size=3</font>`|<font size=3>Font size=3</font>|\n",
    "|`<font size=4>Font size=4</font>`|<font size=4>Font size=4</font>|\n",
    "|`<font size=5>Font size=5</font>`|<font size=5>Font size=5</font>|\n",
    "|`<font size=6>Font size=6</font>`|<font size=6>Font size=6</font>|\n",
    "|`<font size=7>Font size=7</font>`|<font size=7>Font size=7</font>|\n",
    "\n",
    "<font size=\"1\"><center>Reference: https://stackoverflow.com/questions/29274501/r-markdown-changing-font-size-and-font-type-in-html-output</center></font>\n",
    "\n",
    "\n",
    "***\n",
    "<font size=1>[Back to 3. Fonts](#3) | [Back to top](#Table-of-contents)</font>"
   ]
  },
  {
   "cell_type": "markdown",
   "metadata": {},
   "source": [
    "### <a id=3.3>3.3 Font colors</a>\n",
    "Before play with colors, you need to know the color names or color codes. Here is the reference of the color names from w3school: https://www.w3schools.com/tags/ref_colornames.asp."
   ]
  },
  {
   "cell_type": "markdown",
   "metadata": {},
   "source": [
    "|<center>Syntaxes</center>|<center>Results</center>|\n",
    "|:---|:---|\n",
    "|`<span style='color:Red'>Red</span>`|<span style='color:Red'>Red</span>|\n",
    "|`<span style='color:Green'>Green</span>`|<span style='color:Green'>Green</span>|\n",
    "|`<span style='color:Blue'>Blue</span>`|<span style='color:Blue'>Blue</span>|\n",
    "|`<span style='color:DarkBlue'>Dark Blue</span>`|<span style='color:DarkBlue'>Dark Blue</span>|\n",
    "|`<span style='color:DarkOrange'>Dark Orange</span>`|<span style='color:DarkOrange'>Dark Orange</span>|\n",
    "|`<span style='color:#FF1493'>Deep Pink</span>`|<span style='color:#FF1493'>Deep Pink</span>|\n",
    "|`<span style='color:#DAA520'>Golden Rod</span>`|<span style='color:#DAA520'>Golden Rod</span>|\n",
    "\n",
    "\n",
    "***\n",
    "<font size=1>[Back to 3. Fonts](#3) | [Back to top](#Table-of-contents)</font>"
   ]
  },
  {
   "cell_type": "markdown",
   "metadata": {},
   "source": [
    "### <a id=3.4>3.4 Font background colors</a>\n",
    "For the font background colors, you need to also know the color names or color codes. Use the same reference as [3.3 Font colors](#3.3), which is https://www.w3schools.com/tags/ref_colornames.asp."
   ]
  },
  {
   "cell_type": "markdown",
   "metadata": {},
   "source": [
    "|<center>Syntaxes</center>|<center>Results</center>|\n",
    "|:---|:---|\n",
    "|`<span style='background:Red'>Red</span>`|<span style='background:Red'>Red</span>|\n",
    "|`<span style='background:Green'>Green</span>`|<span style='background:Green'>Green</span>|\n",
    "|`<span style='background:Blue'>Blue</span>`|<span style='background:Blue'>Blue</span>|\n",
    "|`<span style='background:DarkBlue'>Dark Blue</span>`|<span style='background:DarkBlue'>Dark Blue</span>|\n",
    "|`<span style='background:DarkOrange'>Dark Orange</span>`|<span style='background:DarkOrange'>Dark Orange</span>|\n",
    "|`<span style='background:#FF1493'>Deep Pink</span>`|<span style='background:#FF1493'>Deep Pink</span>|\n",
    "|`<span style='background:#DAA520'>Golden Rod</span>`|<span style='background:#DAA520'>Golden Rod</span>|\n"
   ]
  },
  {
   "cell_type": "markdown",
   "metadata": {},
   "source": [
    "Alternatively, you can use HTML `<mark>..</mark>`. But with this option, you cannot define the background color."
   ]
  },
  {
   "cell_type": "markdown",
   "metadata": {},
   "source": [
    "|<center>Syntaxes</center>|<center>Results</center>|\n",
    "|:---|:---|\n",
    "|`<mark>mark</mark>`|<mark>mark</mark>|\n",
    "\n",
    "***\n",
    "<font size=1>[Back to 3. Fonts](#3) | [Back to top](#Table-of-contents)</font>"
   ]
  },
  {
   "cell_type": "markdown",
   "metadata": {},
   "source": [
    "### <a id=3.5>3.5 Combination of font colors and font background colors</a>\n",
    "With the combination of font colors and font background colors, use the semi-colon(\";\"). See examples below."
   ]
  },
  {
   "cell_type": "markdown",
   "metadata": {},
   "source": [
    "|<center>Syntaxes</center>|<center>Results</center>|\n",
    "|:---|:---|\n",
    "|`<span style='background:Red;color:BlanchedAlmond'>Bg=Red, color=BlanchedAlmond</span>`|<span style='background:Red;color:BlanchedAlmond'>Bg=Red, color=BlanchedAlmond</span>|\n",
    "|`<span style='background:Green;color:Yellow'>Bg=Green, color=Yellow</span>`|<span style='background:Green;color:Yellow'>Bg=Green, color=Yellow</span>|\n",
    "|`<span style='background:Blue;color:White'>Bg=Blue, color=White</span>`|<span style='background:Blue;color:White'>Bg=Blue, color=White</span>|\n",
    "|`<span style='background:DarkBlue;color:Aqua'>Bg=DarkBlue, color=Aqua</span>`|<span style='background:DarkBlue;color:Aqua'>Bg=DarkBlue, color=Aqua</span>|\n",
    "|`<span style='background:DarkOrange;color:WhiteSmoke'>Bg=DarkOrange, color=WhiteSmoke</span>`|<span style='background:DarkOrange;color:WhiteSmoke'>Bg=DarkOrange, color=WhiteSmoke</span>|\n",
    "|`<span style='background:#FF1493;color:#2E8B57'>Bg=#FF1493(DeepPink), color=#2E8B57(SeaGreen)</span>`|<span style='background:#FF1493;color:#2E8B57'>Bg=#FF1493(DeepPink), color=#2E8B57(SeaGreen)</span>|\n",
    "|`<span style='background:#DAA520;color:MistyRose'>Bg=#DAA520(GoldenRod), color=MistyRose</span>`|<span style='background:#DAA520;color:MistyRose'>Bg=#DAA520(GoldenRod), color=MistyRose</span>|\n",
    "\n",
    "\n",
    "***\n",
    "<font size=\"1\">[Back to 3. Fonts](#3) | [Back to top](#Table-of-contents)</font>"
   ]
  },
  {
   "cell_type": "markdown",
   "metadata": {},
   "source": [
    "## <a id=4>4. Table</a>\n",
    "<u>Syntax: </u>\n",
    "```\n",
    "|<center>Table, left aligned</center>|<center>Table, center aligned</center>|<center>Table, right aligned</center>|\n",
    "|:---|:---:|---:|\n",
    "|Left|Center|Right|\n",
    "|...|...|...|\n",
    "```\n",
    "\n",
    "<center><u>Result:</u></center>\n",
    "\n",
    "|<center>Table, left aligned</center>|<center>Table, center aligned</center>|<center>Table, right aligned</center>|\n",
    "|:---|:---:|---:|\n",
    "|Left|Center|Right|\n",
    "|...|...|...|\n",
    "\n",
    "***\n",
    "[Back to top](#Table-of-contents)"
   ]
  },
  {
   "cell_type": "markdown",
   "metadata": {},
   "source": [
    "## <a id=5>5. Horizontal lines</a>\n",
    "<u>Syntax: </u>`***` <font color='grey'>*(see result below)*</font>\n",
    "***\n",
    "\n",
    "<u>Syntax: </u>`---` <font color='grey'>*(see result below)*</font>\n",
    "\n",
    "---\n",
    "<u>Syntax: </u>`___` <font color='grey'>*(see result below)*</font>\n",
    "___\n",
    "\n",
    "***\n",
    "[Back to top](#Table-of-contents)"
   ]
  },
  {
   "cell_type": "markdown",
   "metadata": {},
   "source": [
    "## <a id=6>6. Links</a>\n"
   ]
  },
  {
   "cell_type": "markdown",
   "metadata": {},
   "source": [
    "### <a id=6.1>6.1 Internal Links</a>\n",
    "For an internal link, you would need to create an anchor to locate the destination of reference."
   ]
  },
  {
   "cell_type": "markdown",
   "metadata": {},
   "source": [
    "| |<center>Anchors</center>|<center>Syntaxes</center>|<center>Examples</center>\n",
    "|:---|:---:|:---:|:---:|\n",
    "|<b>Link to headers</b>| n/a <br>(A header can be an anchor by itself.<br>*Note: replace a space(\" \") with a hyphen(\"-\")* |`[Fonts](#3.-Fonts)`|[Fonts](#3.-Fonts)\n",
    "|<b>Link to any text in a notebook</b>| Create an anchor by using HTML.<br>1. `<a name=\"(anchor_name1)\">Anchor1</a>`<br>2. `<a id=\"(anchor_name2)\">Anchor2</a>`|<br>1. `[Anchor1](#anchor_name1)`<br>2. `[Anchor2](#anchor_name2)`|<br>1. [Anchor1](#(anchor_name1))<br>2. [Anchor2](#(anchor_name2))\n",
    "\n",
    "<font size=\"1\"><center>Reference: https://stackoverflow.com/questions/2822089/how-to-link-to-part-of-the-same-document-in-markdown</font></center> "
   ]
  },
  {
   "cell_type": "markdown",
   "metadata": {},
   "source": [
    "<span style='color:#A9A9A9'><i><u>Examples of creating an anchor with HTML:</u></i><br>\n",
    "<i>1. <a name=\"(anchor_name1)\">Anchor1</a></i><br>\n",
    "<i>2. <a id=\"(anchor_name2)\">Anchor2</a></i><br></span>\n",
    "\n",
    "***\n",
    "<font size=1>[Back to 6. Links](#6) | [Back to top](#Table-of-contents)</font>"
   ]
  },
  {
   "cell_type": "markdown",
   "metadata": {},
   "source": [
    "### <a id=6.2>6.2 External Links</a>\n",
    "For an external link, you can just refer to the URL with the same syntax format as an internal link."
   ]
  },
  {
   "cell_type": "markdown",
   "metadata": {},
   "source": [
    "|<center>Syntax</center>|<center>Example</center>|\n",
    "|:---|:---:|\n",
    "|`[Search for anything](https://www.google.com)`|[Search for anything](https://www.google.com)|\n",
    "\n",
    "***\n",
    "<font size=1>[Back to 6. Links](#6) | [Back to top](#Table-of-contents)</font>"
   ]
  },
  {
   "cell_type": "markdown",
   "metadata": {},
   "source": [
    "## <a id=7>7. Bootstraps</a>"
   ]
  },
  {
   "cell_type": "markdown",
   "metadata": {},
   "source": [
    "### <a id=7.1>7.1 Alerts</a>\n",
    "\n",
    "| <center>Syntaxes</center> | <center>Results</center> |\n",
    "|:---|:---|\n",
    "|`<div class=\"alert alert-success\">`<br>&emsp;&emsp;`<strong>Success!</strong> Indicates a successful or positive action.`<br>`</div>`| <div class=\"alert alert-success\"><strong>Success!</strong> Indicates a successful or positive action.</div> |\n",
    "|`<div class=\"alert alert-info\">`<br>&emsp;&emsp;`<strong>Info!</strong> Indicates a neutral informative change or action.`<br>`</div>`| <div class=\"alert alert-info\">  <strong>Info!</strong> Indicates a neutral informative change or action.</div> |\n",
    "|`<div class=\"alert alert-warning\">`<br>&emsp;&emsp;`<strong>Warning!</strong> Indicates a warning that might need attention.`<br>`</div>`| <div class=\"alert alert-warning\"><strong>Warning!</strong> Indicates a warning that might need attention.</div> |\n",
    "|`<div class=\"alert alert-danger\">`<br>&emsp;&emsp;`<strong>Danger!</strong> Indicates a dangerous or potentially negative action.`<br>`</div>`| <div class=\"alert alert-danger\"><strong>Danger!</strong> Indicates a dangerous or potentially negative action.</div> |\n",
    "\n",
    "<font size=\"1\"><center>Reference: https://www.w3schools.com/bootstrap/bootstrap_alerts.asp</center></font>\n",
    "\n",
    "***\n",
    "<font size=1>[Back to 7.Bootstraps](#7) | [Back to top](#Table-of-contents)</font>"
   ]
  },
  {
   "cell_type": "markdown",
   "metadata": {},
   "source": [
    "### <a id=7.2>7.2 Badges/Labels</a>\n",
    "\n",
    "| <center>Syntaxes</center> | <center>Results</center> |\n",
    "|:---|:---|\n",
    "|`<span class=\"label label-default\">Default Label</span>`| <span class=\"label label-default\">Default Label</span> |\n",
    "|`<span class=\"label label-primary\">Primary Label</span>`| <span class=\"label label-primary\">Primary Label</span> |\n",
    "|`<span class=\"label label-success\">Success Label</span>`| <span class=\"label label-success\">Success Label</span> |\n",
    "|`<span class=\"label label-info\">Info Label</span>`| <span class=\"label label-info\">Info Label</span> |\n",
    "|`<span class=\"label label-warning\">Warning Label</span>`| <span class=\"label label-warning\">Warning Label</span> |\n",
    "|`<span class=\"label label-danger\">Danger Label</span>`| <span class=\"label label-danger\">Danger Label</span> |\n",
    "\n",
    "<font size=\"1\"><center>Reference: https://www.w3schools.com/bootstrap/bootstrap_badges_labels.asp</center></font>\n",
    "\n",
    "***\n",
    "<font size=1>[Back to 7.Bootstraps](#7) | [Back to top](#Table-of-contents)</font>"
   ]
  },
  {
   "cell_type": "markdown",
   "metadata": {},
   "source": [
    "## <a id=8>8. Blockquotes</a>"
   ]
  },
  {
   "cell_type": "markdown",
   "metadata": {},
   "source": [
    "'>' represent a quote. If you want to quote in quote, you can use '>>'. <bf>\n",
    "See the result of the syntaxes in the following lines;<br><br>\n",
    "<u>Syntax:</u> `> Blockquotes 1`\n",
    "> Blockquotes 1\n",
    "\n",
    "<u>Syntax:</u> `>> Blockquotes 2`\n",
    ">> Blockquotes 2\n",
    "\n",
    "<u>Syntax:</u> `> Blockquotes 1`<br>\n",
    "&emsp;&emsp;&emsp;&ensp;`>> Blockquotes 2`\n",
    "> Blockquotes 1\n",
    ">> Blockquotes 2\n",
    "\n",
    "<u>Syntax:</u> `>>> Blockquotes 3`\n",
    ">>> Blockquotes 3\n",
    "\n",
    "***\n",
    "<font size=1>[Back to top](#Table-of-contents)</font>"
   ]
  },
  {
   "cell_type": "markdown",
   "metadata": {},
   "source": [
    "## <a id=9>9. References</a>\n",
    "- Aichara, Dayal Chand. \"12 Things to know about Jupyter Notebook Markdown.\" Medium, April 15, 2019. https://medium.com/game-of-data/12-things-to-know-about-jupyter-notebook-markdown-3f6cef811707.\n",
    "- \"Bootstrap 3 Tutorial.\" w3schools, December 1, 2021. https://www.w3schools.com/bootstrap/default.aspa.\n",
    "- \"Markdown for Jupyter notebooks cheatsheet.\" IBM Watson Studio Local, December 1, 2021. https://www.ibm.com/docs/en/watson-studio-local/1.2.3?topic=notebooks-markdown-jupyter-cheatsheet.\n",
    "- Smith, Olivia. \"Markdown in Jupyter Notebook.\" datacamp, August 5, 2019. https://www.datacamp.com/community/tutorials/markdown-in-jupyter-notebook\n",
    "- \"Basic Syntax\" Markdown Guide, December 1, 2021. https://www.markdownguide.org/basic-syntax\n",
    "***\n",
    "[Back to top](#Table-of-contents)"
   ]
  }
 ],
 "metadata": {
  "kernelspec": {
   "display_name": "Python 3",
   "language": "python",
   "name": "python3"
  },
  "language_info": {
   "codemirror_mode": {
    "name": "ipython",
    "version": 3
   },
   "file_extension": ".py",
   "mimetype": "text/x-python",
   "name": "python",
   "nbconvert_exporter": "python",
   "pygments_lexer": "ipython3",
   "version": "3.8.8"
  }
 },
 "nbformat": 4,
 "nbformat_minor": 4
}
